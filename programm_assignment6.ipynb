{
 "cells": [
  {
   "cell_type": "code",
   "execution_count": null,
   "id": "5421faab",
   "metadata": {},
   "outputs": [],
   "source": [
    "# Write a Python Program to Find Factorial of  Using Recursion?\n",
    "def facto(n):\n",
    "    if n == 1:\n",
    "        return 1\n",
    "    else:\n",
    "        return(int(n)*facto(int(n)-1))\n",
    "    \n"
   ]
  },
  {
   "cell_type": "code",
   "execution_count": null,
   "id": "f74763e0",
   "metadata": {},
   "outputs": [],
   "source": [
    "# Write a Python Program to Display Fibonacci Sequence Using Recursion?\n",
    "def fibo(n):\n",
    "    if n==0:\n",
    "        return 0\n",
    "    elif n ==1:\n",
    "        return 1\n",
    "    else:\n",
    "        return fibo(n-1)+fibo(n-2)\n",
    "a = int(input(\"enter a number\"))\n",
    "for i in range(a):\n",
    "    print(fibo(i))"
   ]
  },
  {
   "cell_type": "code",
   "execution_count": null,
   "id": "1115ace6",
   "metadata": {},
   "outputs": [],
   "source": [
    "# Write a Python Program to calculate your Body Mass Index?\n",
    "a = float(input(\"enter your height in meter\"))\n",
    "b = int(input(\"enter your weight in kg\"))\n",
    "c = b/(a)**2\n",
    "if c<18.5:\n",
    "    print(\" Underweight\",c)\n",
    "elif c>=18.5 and c<24.9:\n",
    "    print(\"normal weight \",c)\n",
    "elif c>=25 and c< 29.9:\n",
    "    print(\"Overweight\",c)\n",
    "else:\n",
    "    print(\"Obesity\",c)\n"
   ]
  },
  {
   "cell_type": "code",
   "execution_count": null,
   "id": "d62d44c4",
   "metadata": {},
   "outputs": [],
   "source": [
    "# Write a Python Program to calculate the natural logarithm of any number?\n",
    "from math import log\n",
    "a = int(input(\"enter a number\\n\"))\n",
    "ln = log(a)\n",
    "print(\"natural log of a is\",ln)"
   ]
  },
  {
   "cell_type": "code",
   "execution_count": null,
   "id": "8b9706f0",
   "metadata": {},
   "outputs": [],
   "source": [
    "# Write a Python Program for cube sum of first n natural numbers?\n",
    "a = int(input(\"enter a number\\n\"))\n",
    "c = (0.5*a*(a+1))**2\n",
    "print(f\"cube sum is {c}\")"
   ]
  }
 ],
 "metadata": {
  "kernelspec": {
   "display_name": "Python 3 (ipykernel)",
   "language": "python",
   "name": "python3"
  },
  "language_info": {
   "codemirror_mode": {
    "name": "ipython",
    "version": 3
   },
   "file_extension": ".py",
   "mimetype": "text/x-python",
   "name": "python",
   "nbconvert_exporter": "python",
   "pygments_lexer": "ipython3",
   "version": "3.9.12"
  }
 },
 "nbformat": 4,
 "nbformat_minor": 5
}
